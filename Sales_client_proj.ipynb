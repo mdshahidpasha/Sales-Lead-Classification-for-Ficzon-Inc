{
 "cells": [
  {
   "cell_type": "markdown",
   "id": "8d9f9b07-7e24-4358-be89-3669acb3416b",
   "metadata": {},
   "source": [
    "### Business Case: Sales Effectiveness Optimization for FicZon Inc\n",
    "- FicZon Inc is a technology-driven IT solutions provider offering a range of products, from on-premise software to SaaS-based platforms. The company's primary source of business leads comes through digital channels, particularly its official website.\n",
    "\n",
    "- However, with increasing market competition and sales stagnation, FicZon faces a growing need to optimize its sales process. One key challenge is that lead quality assessment is highly manual, subjective, and dependent on individual sales staff expertise. While there is an internal quality process for lead categorization, its use is limited to post-sale analysis, offering minimal support to improve real-time conversion rates.\n",
    "\n",
    "- To tackle this, FicZon wants to leverage Machine Learning (ML) to pre-categorize leads based on historical sales and customer interaction data. This proactive categorization is expected to enhance sales effectiveness, reduce wasted efforts, and drive revenue growth."
   ]
  },
  {
   "cell_type": "code",
   "execution_count": null,
   "id": "cc2843ef-a83e-4d04-8e6f-bccff2d65b7e",
   "metadata": {},
   "outputs": [],
   "source": [
    "import numpy as np\n",
    "import pandas as pd\n",
    "import matplotlib.pyplot as plt\n",
    "import seaborn as sns\n",
    "import warnings\n",
    "warnings.filterwarnings('ignore')"
   ]
  },
  {
   "cell_type": "code",
   "execution_count": null,
   "id": "4072bed0-1669-48db-95ef-70474dcdb5b0",
   "metadata": {},
   "outputs": [],
   "source": [
    "df = pd.read_csv('sales_data.csv')\n",
    "df"
   ]
  },
  {
   "cell_type": "code",
   "execution_count": null,
   "id": "62aa7d6c-cf75-484f-b196-d14f532a027c",
   "metadata": {},
   "outputs": [],
   "source": [
    "pd.set_option('display.max_rows',None)"
   ]
  },
  {
   "cell_type": "code",
   "execution_count": null,
   "id": "3d386178-aec3-4e38-8321-22674f5deeea",
   "metadata": {},
   "outputs": [],
   "source": [
    "df.drop(['Mobile','EMAIL'],axis=1,inplace=True)"
   ]
  },
  {
   "cell_type": "markdown",
   "id": "3b55e1e1-50f3-46e2-844e-bdd0c4dc2cb6",
   "metadata": {},
   "source": [
    "### Domain Analysis"
   ]
  },
  {
   "cell_type": "code",
   "execution_count": null,
   "id": "069ad06c-33c9-4886-8fb1-8e55fcc17939",
   "metadata": {},
   "outputs": [],
   "source": []
  },
  {
   "cell_type": "markdown",
   "id": "56b33fec-37f4-4192-b2c5-2e3bf8f8038b",
   "metadata": {},
   "source": [
    "### Creating Target Column either high potential or low potential based on status column"
   ]
  },
  {
   "cell_type": "markdown",
   "id": "46602a3f-c8e4-4b0e-a57f-c5b515bcd348",
   "metadata": {},
   "source": [
    "### 0 = low potential , 1 = high potential"
   ]
  },
  {
   "cell_type": "code",
   "execution_count": null,
   "id": "d2470cf8-f2d9-41e8-93a4-20cd38e05ee6",
   "metadata": {},
   "outputs": [],
   "source": [
    "# Define high and low potential statuses\n",
    "high_potential = [\n",
    "    'CONVERTED', 'converted', 'Potential',\n",
    "    'In Progress Positive'\n",
    "]\n",
    "\n",
    "low_potential = [\n",
    "    'Junk Lead', 'Not Responding', 'Just Enquiry',\n",
    "    'In Progress Negative', 'LOST','Long Term' , 'Open'\n",
    "]\n",
    "\n",
    "# Function to map status to binary label\n",
    "def map_status_to_target(status):\n",
    "    if status in high_potential:\n",
    "        return 1  # High Potential\n",
    "    elif status in low_potential:\n",
    "        return 0  # Low Potential\n",
    "    else:\n",
    "        return None  # Ambiguous or unhandled (like 'Open')\n",
    "\n",
    "# Apply the function to create new column\n",
    "df['Target'] = df['Status'].apply(map_status_to_target)"
   ]
  },
  {
   "cell_type": "code",
   "execution_count": null,
   "id": "cca3f36f-ceaa-4c70-b000-0e3bd6061b4f",
   "metadata": {},
   "outputs": [],
   "source": [
    "df['Target'] = df['Target'].astype(int)"
   ]
  },
  {
   "cell_type": "code",
   "execution_count": null,
   "id": "b33a8544-2b57-4904-a898-affad632d70e",
   "metadata": {},
   "outputs": [],
   "source": [
    "df.drop(['Status'],axis=1,inplace=True)"
   ]
  },
  {
   "cell_type": "markdown",
   "id": "6495dc73-0a36-4d43-a922-b4aded360af8",
   "metadata": {},
   "source": [
    "### Basic Checks"
   ]
  },
  {
   "cell_type": "code",
   "execution_count": null,
   "id": "d5ca60d5-ec5a-43b5-aff3-88ab18d6820c",
   "metadata": {},
   "outputs": [],
   "source": [
    "df.head()"
   ]
  },
  {
   "cell_type": "code",
   "execution_count": null,
   "id": "6f091b51-101e-48b5-b550-245f533ec30e",
   "metadata": {},
   "outputs": [],
   "source": [
    "df.tail()"
   ]
  },
  {
   "cell_type": "code",
   "execution_count": null,
   "id": "3b0519aa-1ab4-44ee-915e-639071eb2508",
   "metadata": {},
   "outputs": [],
   "source": [
    "df.info()"
   ]
  },
  {
   "cell_type": "code",
   "execution_count": null,
   "id": "3fdc2aa4-7934-49e7-afc5-2e54ff255ed2",
   "metadata": {
    "scrolled": true
   },
   "outputs": [],
   "source": [
    "df.describe()"
   ]
  },
  {
   "cell_type": "code",
   "execution_count": null,
   "id": "c00edcee-869d-4ac2-9a2b-efaa6f96436d",
   "metadata": {},
   "outputs": [],
   "source": [
    "df.describe(include='O')"
   ]
  },
  {
   "cell_type": "code",
   "execution_count": null,
   "id": "3d586371-bb16-43f1-b7a1-5480b5cac79d",
   "metadata": {},
   "outputs": [],
   "source": [
    "df.Target.value_counts()"
   ]
  },
  {
   "cell_type": "markdown",
   "id": "11f92e14-6502-42ae-a9bd-f642aa5af63c",
   "metadata": {},
   "source": [
    "### Handling Null Values"
   ]
  },
  {
   "cell_type": "code",
   "execution_count": null,
   "id": "856e390f-6b25-48f1-931d-73172c2717fc",
   "metadata": {},
   "outputs": [],
   "source": [
    "df.isnull().sum()"
   ]
  },
  {
   "cell_type": "code",
   "execution_count": null,
   "id": "4e4f235d-69c2-4836-9c8f-c93cbe197f8d",
   "metadata": {
    "scrolled": true
   },
   "outputs": [],
   "source": [
    "df.loc[df.Product_ID.isnull()]"
   ]
  },
  {
   "cell_type": "code",
   "execution_count": null,
   "id": "06b27df7-a6e6-4bcb-b50a-6bf8ca767644",
   "metadata": {},
   "outputs": [],
   "source": [
    "np.nanmedian(df.Product_ID)"
   ]
  },
  {
   "cell_type": "code",
   "execution_count": null,
   "id": "abcbd325-4611-441e-b635-82d46ae62461",
   "metadata": {},
   "outputs": [],
   "source": [
    "df.loc[df.Product_ID.isnull(),'Product_ID'] = np.nanmedian(df.Product_ID)"
   ]
  },
  {
   "cell_type": "code",
   "execution_count": null,
   "id": "b5aaf149-f64f-44ee-9aae-80c921f1482a",
   "metadata": {},
   "outputs": [],
   "source": [
    "df.loc[[0,1,2,3,4,5,6,7,8,9]]"
   ]
  },
  {
   "cell_type": "code",
   "execution_count": null,
   "id": "8d42f4b9-05b3-4af6-8491-d304542c0783",
   "metadata": {},
   "outputs": [],
   "source": [
    "df.loc[df.Location.isnull(),'Location'] = 'Other Locations'"
   ]
  },
  {
   "cell_type": "code",
   "execution_count": null,
   "id": "20c0ea1d-646f-437f-9d76-2d41122033d4",
   "metadata": {},
   "outputs": [],
   "source": [
    "df.loc[[0,1,2,3,4,5,7]]"
   ]
  },
  {
   "cell_type": "code",
   "execution_count": null,
   "id": "211c2485-1b49-4bfb-b3d4-aab8ba1ad48e",
   "metadata": {},
   "outputs": [],
   "source": [
    "df.loc[df.Source.isnull(),'Source'] = 'Call'"
   ]
  },
  {
   "cell_type": "code",
   "execution_count": null,
   "id": "198e31a0-6a8d-4911-8147-39e38774a6f9",
   "metadata": {},
   "outputs": [],
   "source": [
    "df.loc[df.Sales_Agent.isnull(),'Sales_Agent'] = 'Sales-Agent-4'"
   ]
  },
  {
   "cell_type": "code",
   "execution_count": null,
   "id": "f3099293-6167-42ec-b90a-d1499abc42fd",
   "metadata": {},
   "outputs": [],
   "source": [
    "df.isnull().sum()"
   ]
  },
  {
   "cell_type": "markdown",
   "id": "727caa42-5b48-43ce-b156-33e05d177f1c",
   "metadata": {},
   "source": [
    "### converting Created column into datetime"
   ]
  },
  {
   "cell_type": "code",
   "execution_count": null,
   "id": "f7641335-6531-4bc5-8501-2972ccafbcca",
   "metadata": {},
   "outputs": [],
   "source": [
    "df.info()"
   ]
  },
  {
   "cell_type": "code",
   "execution_count": null,
   "id": "0c7acbd2-87fe-44ba-a774-04e59413f060",
   "metadata": {},
   "outputs": [],
   "source": [
    "df.Created = pd.to_datetime(df['Created'])"
   ]
  },
  {
   "cell_type": "code",
   "execution_count": null,
   "id": "ed9ee64e-33c6-4bf2-8a8d-a22d48f762c9",
   "metadata": {},
   "outputs": [],
   "source": [
    "df.Product_ID = df.Product_ID.astype('int32')"
   ]
  },
  {
   "cell_type": "code",
   "execution_count": null,
   "id": "4a9ae32f-5018-4a7f-b42d-d96669dde45d",
   "metadata": {},
   "outputs": [],
   "source": [
    "df.info()"
   ]
  },
  {
   "cell_type": "markdown",
   "id": "5ef32de1-77c6-4ec8-85d9-fde5730f5d44",
   "metadata": {},
   "source": [
    "### EDA"
   ]
  },
  {
   "cell_type": "markdown",
   "id": "4a0a1fef-83cb-4c1c-811e-0fe242b16ef6",
   "metadata": {},
   "source": [
    "#### Univariate Analysis"
   ]
  },
  {
   "cell_type": "code",
   "execution_count": null,
   "id": "22c0029f-bb7d-4803-bd6e-7e74ed9fc640",
   "metadata": {},
   "outputs": [],
   "source": [
    "df.head()"
   ]
  },
  {
   "cell_type": "code",
   "execution_count": null,
   "id": "411032b0-6096-4071-a6e1-6a4996631d0d",
   "metadata": {},
   "outputs": [],
   "source": [
    "plt.figure(figsize = (12,5))\n",
    "sns.countplot(x=df.Product_ID)"
   ]
  },
  {
   "cell_type": "code",
   "execution_count": null,
   "id": "b7688fff-3087-4ea7-baa5-60fe3f080911",
   "metadata": {},
   "outputs": [],
   "source": [
    "plt.figure(figsize=(10,10))\n",
    "sns.countplot(x=df.Source)\n",
    "plt.xticks(rotation=90)\n",
    "plt.tight_layout()"
   ]
  },
  {
   "cell_type": "code",
   "execution_count": null,
   "id": "5b2d767d-f2e1-450d-9766-289f4a8882aa",
   "metadata": {},
   "outputs": [],
   "source": [
    "plt.figure(figsize=(10,10))\n",
    "sns.countplot(x=df.Sales_Agent)\n",
    "plt.xticks(rotation=90)\n",
    "plt.tight_layout()"
   ]
  },
  {
   "cell_type": "code",
   "execution_count": null,
   "id": "876e9a8f-73ae-42df-8e37-2e776fbb8ad5",
   "metadata": {},
   "outputs": [],
   "source": [
    "plt.figure(figsize=(10,10))\n",
    "sns.countplot(x=df.Location)\n",
    "plt.xticks(rotation=90)\n",
    "plt.tight_layout()"
   ]
  },
  {
   "cell_type": "code",
   "execution_count": null,
   "id": "2428af50-d60d-46b1-a139-a1f1f740184e",
   "metadata": {},
   "outputs": [],
   "source": [
    "plt.figure(figsize=(10,10))\n",
    "sns.countplot(x=df.Delivery_Mode)"
   ]
  },
  {
   "cell_type": "code",
   "execution_count": null,
   "id": "9d34902b-eae3-46b5-95ce-799e3ad9e309",
   "metadata": {},
   "outputs": [],
   "source": []
  },
  {
   "cell_type": "code",
   "execution_count": null,
   "id": "4a87e11c-709f-44e6-9678-5cac2fdcb625",
   "metadata": {},
   "outputs": [],
   "source": [
    "sns.countplot(x=df.Target)"
   ]
  },
  {
   "cell_type": "code",
   "execution_count": null,
   "id": "be7539b2-2e2b-4ad7-b1ed-e2df6b7d8dc1",
   "metadata": {},
   "outputs": [],
   "source": [
    "df['Created'] = pd.to_datetime(df['Created'])\n",
    "\n",
    "# Group by day\n",
    "daily_counts = df.set_index('Created').resample('D').size()\n",
    "\n",
    "# Plot\n",
    "daily_counts.plot(figsize=(12, 5))\n",
    "plt.title(\"Number of Records Over Time\")\n",
    "plt.ylabel(\"Count\")\n",
    "plt.xlabel(\"Date\")\n",
    "plt.tight_layout()\n",
    "plt.show()"
   ]
  },
  {
   "cell_type": "markdown",
   "id": "8edae05b-4a40-4979-805c-5d50a5949632",
   "metadata": {},
   "source": [
    "### Bivariate Analysis"
   ]
  },
  {
   "cell_type": "code",
   "execution_count": null,
   "id": "0bda2e25-7f08-4866-9318-c36a4e94117b",
   "metadata": {},
   "outputs": [],
   "source": [
    "plt.figure(figsize = (12,5))\n",
    "sns.countplot(x=df.Product_ID,hue=df.Target)"
   ]
  },
  {
   "cell_type": "code",
   "execution_count": null,
   "id": "b9d51406-119d-49fd-b065-269280d7b31e",
   "metadata": {},
   "outputs": [],
   "source": [
    "plt.figure(figsize=(10,10))\n",
    "sns.countplot(x=df.Source,hue=df.Target)\n",
    "plt.xticks(rotation=90)\n",
    "plt.tight_layout()"
   ]
  },
  {
   "cell_type": "code",
   "execution_count": null,
   "id": "8842ef17-68ab-4ba7-b844-7b58e7a9cf2e",
   "metadata": {},
   "outputs": [],
   "source": [
    "plt.figure(figsize=(10,10))\n",
    "sns.countplot(x=df.Sales_Agent,hue=df.Target)\n",
    "plt.xticks(rotation=90)\n",
    "plt.tight_layout()"
   ]
  },
  {
   "cell_type": "code",
   "execution_count": null,
   "id": "5d9a4c2b-6de7-4760-b8f5-f1681314af65",
   "metadata": {},
   "outputs": [],
   "source": [
    "plt.figure(figsize=(10,10))\n",
    "sns.countplot(x=df.Location,hue=df.Target)\n",
    "plt.xticks(rotation=90)\n",
    "plt.tight_layout()"
   ]
  },
  {
   "cell_type": "code",
   "execution_count": null,
   "id": "9c252de6-d66d-46e1-ba85-f036473c551d",
   "metadata": {},
   "outputs": [],
   "source": [
    "plt.figure(figsize=(10,10))\n",
    "sns.countplot(x=df.Delivery_Mode,hue=df.Target)"
   ]
  },
  {
   "cell_type": "code",
   "execution_count": null,
   "id": "0e9d6edf-75bb-4f92-8a91-2205834b1379",
   "metadata": {},
   "outputs": [],
   "source": [
    "df_sorted = df.sort_values('Created')\n",
    "df_sorted['rolling_mean'] = df_sorted['Target'].rolling(window=100).mean()\n",
    "\n",
    "plt.figure(figsize=(14, 5))\n",
    "plt.plot(df_sorted['Created'], df_sorted['rolling_mean'])\n",
    "plt.title(\"Rolling Conversion Rate Over Time\")\n",
    "plt.xlabel(\"Time\")\n",
    "plt.ylabel(\"Rolling Mean of Target (Conversion Rate)\")\n",
    "plt.tight_layout()\n",
    "plt.show()"
   ]
  },
  {
   "cell_type": "markdown",
   "id": "ffa038c6-61fe-4451-ac47-f5938a975cc7",
   "metadata": {},
   "source": [
    "### Data Preprocessing"
   ]
  },
  {
   "cell_type": "markdown",
   "id": "37a2f661-70ab-4754-9316-11f6ea71b7d4",
   "metadata": {},
   "source": [
    "##### Handling Null Values\n",
    "- Done Before EDA"
   ]
  },
  {
   "cell_type": "markdown",
   "id": "7021d034-e615-4b34-8b7a-8cf32e71666b",
   "metadata": {},
   "source": [
    "##### Handling With Categorical data"
   ]
  },
  {
   "cell_type": "code",
   "execution_count": null,
   "id": "85603e9d-affd-491e-97f7-653c47e52250",
   "metadata": {},
   "outputs": [],
   "source": [
    "df.head()"
   ]
  },
  {
   "cell_type": "code",
   "execution_count": null,
   "id": "48222cc6-333d-4285-bd1a-972d34b1f508",
   "metadata": {},
   "outputs": [],
   "source": [
    "# Step 1: Convert 'Created' to datetime and extract features (as you did)\n",
    "df['Created'] = pd.to_datetime(df['Created'])\n",
    "df['Hour'] = df['Created'].dt.hour\n",
    "df['Day'] = df['Created'].dt.day\n",
    "df['Month'] = df['Created'].dt.month\n",
    "df['Weekday'] = df['Created'].dt.weekday\n",
    "df.drop('Created', axis=1, inplace=True)"
   ]
  },
  {
   "cell_type": "code",
   "execution_count": null,
   "id": "7563461f-9742-4518-9667-3a10b629c4a0",
   "metadata": {},
   "outputs": [],
   "source": [
    "#import pandas as pd\n",
    "\n",
    "# Assuming your dataset is loaded into 'df'\n",
    "# df = pd.read_csv(\"your_file.csv\")  # if not already loaded\n",
    "\n",
    "# -------------------------------\n",
    "# 1️ Combine Rare Categories (optional but recommended for 'Location' & 'Delivery_Mode')\n",
    "\n",
    "# Combine rare categories in 'Location' (e.g., categories with <50 entries as 'Other')\n",
    "rare_locations = df['Location'].value_counts()[df['Location'].value_counts() < 50].index\n",
    "df['Location'] = df['Location'].replace(rare_locations, 'Other')\n",
    "\n",
    "# Similarly, for Delivery_Mode if you want to combine rare modes:\n",
    "rare_modes = df['Delivery_Mode'].value_counts()[df['Delivery_Mode'].value_counts() < 50].index\n",
    "df['Delivery_Mode'] = df['Delivery_Mode'].replace(rare_modes, 'Other')\n",
    "\n",
    "# -------------------------------\n",
    "# 2️ Frequency Encoding for 'Sales_Agent'\n",
    "freq_sales = df['Sales_Agent'].value_counts(normalize=True)\n",
    "df['Sales_Agent_Freq'] = df['Sales_Agent'].map(freq_sales)\n",
    "\n",
    "# Drop the original 'Sales_Agent' column\n",
    "df.drop(columns=['Sales_Agent'], inplace=True)\n",
    "\n",
    "# -------------------------------\n",
    "# 3️ One-Hot Encoding for ['Source', 'Location', 'Delivery_Mode']\n",
    "df = pd.get_dummies(df, columns=['Source', 'Location', 'Delivery_Mode'], drop_first=True)\n",
    "\n",
    "print(df.head())\n",
    "print(\"Shape after encoding:\", df.shape)\n"
   ]
  },
  {
   "cell_type": "code",
   "execution_count": null,
   "id": "831f2b12-83ac-44d7-8a20-1467538a45f4",
   "metadata": {},
   "outputs": [],
   "source": [
    "df.head()"
   ]
  },
  {
   "cell_type": "code",
   "execution_count": null,
   "id": "2582c6eb-14a3-4a73-aa96-d6903297c992",
   "metadata": {},
   "outputs": [],
   "source": [
    "# Convert all boolean columns to integers (True → 1, False → 0)\n",
    "df = df.astype({col: 'int' for col in df.select_dtypes('bool').columns})"
   ]
  },
  {
   "cell_type": "code",
   "execution_count": null,
   "id": "9a5478ac-30de-4928-ba97-7f6fba3aa68f",
   "metadata": {},
   "outputs": [],
   "source": [
    "df.head()"
   ]
  },
  {
   "cell_type": "code",
   "execution_count": null,
   "id": "6802d1c8-7ca2-4671-8fd2-27e18262b93b",
   "metadata": {},
   "outputs": [],
   "source": [
    "print(df.columns.tolist())"
   ]
  },
  {
   "cell_type": "code",
   "execution_count": null,
   "id": "1b400e8a-ffd8-4972-bf7e-21dd11f807e4",
   "metadata": {},
   "outputs": [],
   "source": [
    "df.rename(columns={\n",
    "    # Frequency encoding columns\n",
    "    'Sales_Agent_Freq': 'Sales_Agent',\n",
    "    \n",
    "    # Fixing spaces or long names in 'Source_' features\n",
    "    'Source_CRM form': 'Source_CRM',\n",
    "    'Source_E-Mail Message': 'Source_Email_Message',\n",
    "    'Source_E-mail Campaign': 'Source_Email_Campaign',\n",
    "    'Source_Live Chat-Adwords Remarketing': 'Source_Adwords_Remarketing',\n",
    "    'Source_Live Chat-Blog': 'Source_Blog',\n",
    "    'Source_Live Chat-CPC': 'Source_CPC',\n",
    "    'Source_Live Chat-Direct': 'Source_Direct',\n",
    "    'Source_Live Chat-Google Ads': 'Source_Google_Ads',\n",
    "    'Source_Live Chat-Google Organic': 'Source_Google_Organic',\n",
    "    'Source_Live Chat-Justdial': 'Source_Justdial',\n",
    "    'Source_Live Chat-Quora': 'Source_Quora',\n",
    "    'Source_Live Chat-Youtube': 'Source_Youtube',\n",
    "\n",
    "    # Fixing location columns\n",
    "    'Location_Other Locations': 'Location_OtherLoc',\n",
    "    \n",
    "    # Delivery Mode columns\n",
    "    'Delivery_Mode_Mode-3': 'Delivery_Mode_3',\n",
    "    'Delivery_Mode_Mode-4': 'Delivery_Mode_4',\n",
    "    'Delivery_Mode_Mode-5': 'Delivery_Mode_5'\n",
    "    \n",
    "}, inplace=True)\n"
   ]
  },
  {
   "cell_type": "code",
   "execution_count": null,
   "id": "b31adbf4-a3f2-40d5-a5f6-2c320046e623",
   "metadata": {},
   "outputs": [],
   "source": [
    "print(df.columns.tolist())"
   ]
  },
  {
   "cell_type": "code",
   "execution_count": null,
   "id": "36f58dfb-2170-4a12-ab50-59a274677bd4",
   "metadata": {},
   "outputs": [],
   "source": [
    "df.info()"
   ]
  },
  {
   "cell_type": "markdown",
   "id": "e36890a7-7b53-4d67-b094-6a0c4b7e6b79",
   "metadata": {},
   "source": [
    "#### Handling outliers"
   ]
  },
  {
   "cell_type": "markdown",
   "id": "83b4943c-e981-4f37-9a54-8552601987ad",
   "metadata": {},
   "source": [
    "##### we dont handle outliers for categorical data "
   ]
  },
  {
   "cell_type": "markdown",
   "id": "c69660a1-796c-45db-a288-c748d9188b8a",
   "metadata": {},
   "source": [
    "### Scaling"
   ]
  },
  {
   "cell_type": "code",
   "execution_count": null,
   "id": "7d6184d7-67d3-4c38-b390-9a56f95358dc",
   "metadata": {},
   "outputs": [],
   "source": [
    "df.head()"
   ]
  },
  {
   "cell_type": "code",
   "execution_count": null,
   "id": "458acf24-8eb4-4f9b-8020-4048c4e8da36",
   "metadata": {},
   "outputs": [],
   "source": [
    "from sklearn.preprocessing import StandardScaler\n",
    "std = StandardScaler()"
   ]
  },
  {
   "cell_type": "code",
   "execution_count": null,
   "id": "a365a7d9-da7d-45a3-8476-33a7a4d10075",
   "metadata": {},
   "outputs": [],
   "source": [
    "df.Product_ID = std.fit_transform(df[['Product_ID']])"
   ]
  },
  {
   "cell_type": "code",
   "execution_count": null,
   "id": "8b883f14-80fa-429d-bcb9-a2a623a3f119",
   "metadata": {},
   "outputs": [],
   "source": [
    "df.Hour = std.fit_transform(df[['Hour']])"
   ]
  },
  {
   "cell_type": "code",
   "execution_count": null,
   "id": "df434b4d-d17c-4de5-bc95-122dd44a623c",
   "metadata": {},
   "outputs": [],
   "source": [
    "df.Day = std.fit_transform(df[['Day']])"
   ]
  },
  {
   "cell_type": "code",
   "execution_count": null,
   "id": "e1cc74bb-1f94-47fa-b70d-613abce49513",
   "metadata": {},
   "outputs": [],
   "source": [
    "df.Month = std.fit_transform(df[['Month']])"
   ]
  },
  {
   "cell_type": "code",
   "execution_count": null,
   "id": "2766a427-5aaf-4cee-9a29-3c38f41ca9bd",
   "metadata": {},
   "outputs": [],
   "source": [
    "df.head()"
   ]
  },
  {
   "cell_type": "markdown",
   "id": "6563d3eb-7b9c-4909-96f0-dcc4dc865ae7",
   "metadata": {},
   "source": [
    "### Feature Selection"
   ]
  },
  {
   "cell_type": "code",
   "execution_count": null,
   "id": "6b892e60-03bb-4b62-87b7-24c5ed5dc054",
   "metadata": {},
   "outputs": [],
   "source": [
    "df.corr()"
   ]
  },
  {
   "cell_type": "code",
   "execution_count": null,
   "id": "a183119c-4432-4cf4-a601-fbdce56004c5",
   "metadata": {},
   "outputs": [],
   "source": [
    "plt.figure(figsize=(15,15))\n",
    "sns.heatmap(df.corr())"
   ]
  },
  {
   "cell_type": "markdown",
   "id": "fabd9352-a236-404b-9050-39422d7ee722",
   "metadata": {},
   "source": [
    "### Model Creation"
   ]
  },
  {
   "cell_type": "code",
   "execution_count": null,
   "id": "c1469085-8b35-4b78-9112-9126e96f5f77",
   "metadata": {
    "scrolled": true
   },
   "outputs": [],
   "source": [
    "x=df.drop('Target',axis=1)\n",
    "x"
   ]
  },
  {
   "cell_type": "code",
   "execution_count": null,
   "id": "ee082bd6-0ed7-423b-af80-1c0ce9732dea",
   "metadata": {
    "scrolled": true
   },
   "outputs": [],
   "source": [
    "y = df.Target\n",
    "y"
   ]
  },
  {
   "cell_type": "code",
   "execution_count": null,
   "id": "f7d978cd-d621-420b-b8f2-9a8cf6db2044",
   "metadata": {},
   "outputs": [],
   "source": [
    "df.Target.value_counts()"
   ]
  },
  {
   "cell_type": "markdown",
   "id": "ae977010-0c2b-40cd-a683-62526d9dd7d3",
   "metadata": {},
   "source": [
    "### Balancing"
   ]
  },
  {
   "cell_type": "code",
   "execution_count": null,
   "id": "4937aef2-6769-4a15-b26a-d9e043549549",
   "metadata": {},
   "outputs": [],
   "source": [
    "from imblearn.over_sampling import SMOTE\n",
    "sm = SMOTE()"
   ]
  },
  {
   "cell_type": "code",
   "execution_count": null,
   "id": "efd92745-1657-461b-ad45-a5dd2ead96e9",
   "metadata": {},
   "outputs": [],
   "source": [
    "from sklearn.model_selection import train_test_split\n",
    "x_train,x_test,y_train,y_test=train_test_split(x,y,test_size=0.25,random_state=42)"
   ]
  },
  {
   "cell_type": "code",
   "execution_count": null,
   "id": "16ffa332-95e8-42ac-9372-bc48a0c18ac1",
   "metadata": {
    "scrolled": true
   },
   "outputs": [],
   "source": [
    "x_train"
   ]
  },
  {
   "cell_type": "code",
   "execution_count": null,
   "id": "ab011aba-e5bd-44c9-952a-07f9168eb225",
   "metadata": {
    "scrolled": true
   },
   "outputs": [],
   "source": [
    "x_test"
   ]
  },
  {
   "cell_type": "code",
   "execution_count": null,
   "id": "663e4430-a612-4e80-9e81-67732474cc51",
   "metadata": {
    "scrolled": true
   },
   "outputs": [],
   "source": [
    "y_train"
   ]
  },
  {
   "cell_type": "code",
   "execution_count": null,
   "id": "c70714b9-e847-4ce9-bd80-301adabfeb3d",
   "metadata": {
    "scrolled": true
   },
   "outputs": [],
   "source": [
    "y_test"
   ]
  },
  {
   "cell_type": "code",
   "execution_count": null,
   "id": "7ac750af-3471-4406-9309-e0073a8d07f4",
   "metadata": {
    "scrolled": true
   },
   "outputs": [],
   "source": [
    "x_sm,y_sm = sm.fit_resample(x_train,y_train)\n",
    "x_sm,y_sm"
   ]
  },
  {
   "cell_type": "code",
   "execution_count": null,
   "id": "ef94690b-a4b3-4e30-bff8-cfc09e3b386d",
   "metadata": {},
   "outputs": [],
   "source": [
    "print(y_train.value_counts()) # before balancing\n",
    "print(y_sm.value_counts()) "
   ]
  },
  {
   "cell_type": "markdown",
   "id": "94c91f64-5bda-47e8-8e85-fa84fa0d7ea8",
   "metadata": {},
   "source": [
    "### Logistic Regression"
   ]
  },
  {
   "cell_type": "code",
   "execution_count": null,
   "id": "c3c66494-3ba7-466a-b090-752cdd4bab3b",
   "metadata": {},
   "outputs": [],
   "source": [
    "from sklearn.linear_model import LogisticRegression\n",
    "from sklearn.metrics import accuracy_score, precision_score, recall_score, f1_score, roc_auc_score, confusion_matrix, classification_report"
   ]
  },
  {
   "cell_type": "code",
   "execution_count": null,
   "id": "324fb3c5-4b4b-4e34-965f-a635c7cfea02",
   "metadata": {},
   "outputs": [],
   "source": [
    "lr= LogisticRegression(class_weight='balanced')"
   ]
  },
  {
   "cell_type": "code",
   "execution_count": null,
   "id": "ad55a095-9738-43a1-a92c-32c936f5ab17",
   "metadata": {},
   "outputs": [],
   "source": [
    "lr.fit(x_sm,y_sm)"
   ]
  },
  {
   "cell_type": "code",
   "execution_count": null,
   "id": "e719936a-f576-4b04-9e75-3347d053a5ba",
   "metadata": {},
   "outputs": [],
   "source": [
    "y_pred_lr =lr.predict(x_test)"
   ]
  },
  {
   "cell_type": "code",
   "execution_count": null,
   "id": "0f772c94-1ba1-4158-ac14-ce0074b9602b",
   "metadata": {},
   "outputs": [],
   "source": [
    "y_pred_lr"
   ]
  },
  {
   "cell_type": "code",
   "execution_count": null,
   "id": "d3153984-949f-4668-b201-beab5c5c73c2",
   "metadata": {},
   "outputs": [],
   "source": [
    "np.array(y_test)"
   ]
  },
  {
   "cell_type": "code",
   "execution_count": null,
   "id": "a4701fa2-5bd5-4afa-af9b-2047ac1a402f",
   "metadata": {},
   "outputs": [],
   "source": [
    "accuracy_score(y_test,y_pred_lr)"
   ]
  },
  {
   "cell_type": "code",
   "execution_count": null,
   "id": "038cfb49-0d63-470b-b048-03f28cbbd9ab",
   "metadata": {},
   "outputs": [],
   "source": [
    "precision_score(y_test,y_pred_lr)"
   ]
  },
  {
   "cell_type": "code",
   "execution_count": null,
   "id": "61701627-7c47-460a-9653-9f684015fc6a",
   "metadata": {},
   "outputs": [],
   "source": [
    "recall_score(y_test,y_pred_lr)"
   ]
  },
  {
   "cell_type": "code",
   "execution_count": null,
   "id": "b3cf552e-d884-4da9-9762-f5f28d3550a2",
   "metadata": {},
   "outputs": [],
   "source": [
    "f1_score(y_test,y_pred_lr)"
   ]
  },
  {
   "cell_type": "code",
   "execution_count": null,
   "id": "ee54278f-bc0e-4d01-b515-1e5882220e4e",
   "metadata": {},
   "outputs": [],
   "source": [
    "roc_auc_score(y_test,y_pred_lr)"
   ]
  },
  {
   "cell_type": "code",
   "execution_count": null,
   "id": "f664ccb6-548c-4dc6-93c8-71ae5759a60f",
   "metadata": {},
   "outputs": [],
   "source": [
    "confusion_matrix(y_test,y_pred_lr)"
   ]
  },
  {
   "cell_type": "code",
   "execution_count": null,
   "id": "922276d6-9ad8-4eb3-9905-eb0065c5398c",
   "metadata": {},
   "outputs": [],
   "source": [
    "print(classification_report(y_test,y_pred_lr))"
   ]
  },
  {
   "cell_type": "markdown",
   "id": "b38204eb-1b5a-4462-b6d0-897e74b67fcc",
   "metadata": {},
   "source": [
    "### Cross validation"
   ]
  },
  {
   "cell_type": "code",
   "execution_count": null,
   "id": "b4180b16-770b-4ef1-a189-5e34c255170f",
   "metadata": {},
   "outputs": [],
   "source": [
    "from sklearn.model_selection import cross_val_score"
   ]
  },
  {
   "cell_type": "code",
   "execution_count": null,
   "id": "06fb8f9c-be49-4982-bfaa-eb13f93bbc29",
   "metadata": {},
   "outputs": [],
   "source": [
    "model = LogisticRegression(max_iter=200)"
   ]
  },
  {
   "cell_type": "code",
   "execution_count": null,
   "id": "e87a25b2-db82-4548-83f2-56fb0626fc98",
   "metadata": {},
   "outputs": [],
   "source": [
    "scores = cross_val_score(model, x_sm, y_sm, cv=5, scoring='accuracy')\n",
    "print(\"Cross-Validation accuracy Scores:\", scores)\n",
    "print(\"Average accuracy Score:\", scores.mean())"
   ]
  },
  {
   "cell_type": "markdown",
   "id": "5107798b-70d0-4826-90b2-723f6d56a137",
   "metadata": {},
   "source": [
    "### Hyperparameter Tunning"
   ]
  },
  {
   "cell_type": "code",
   "execution_count": null,
   "id": "a97faf27-28f1-4c65-a562-12bd23a4b010",
   "metadata": {},
   "outputs": [],
   "source": [
    "param_dist = {\n",
    "    'penalty': ['l1', 'l2', 'elasticnet', None],\n",
    "    'C': [0.01, 0.1, 1, 10, 100],\n",
    "    'solver': ['lbfgs', 'saga', 'liblinear'],  # saga and liblinear support l1\n",
    "    'max_iter': [100, 200, 500]\n",
    "}"
   ]
  },
  {
   "cell_type": "code",
   "execution_count": null,
   "id": "2698d96c-6848-423c-ae6f-3d282a7d51f7",
   "metadata": {},
   "outputs": [],
   "source": [
    "from sklearn.model_selection import GridSearchCV\n",
    "\n",
    "grid_search = GridSearchCV(\n",
    "    LogisticRegression(),\n",
    "    param_grid=param_dist,  # make sure this is a grid (not a distribution)\n",
    "    scoring='accuracy',           # or 'roc_auc'\n",
    "    n_jobs=-1,\n",
    "    cv=5,\n",
    "    verbose=2\n",
    ")\n"
   ]
  },
  {
   "cell_type": "code",
   "execution_count": null,
   "id": "8137ef3b-3811-4929-ae14-17f95b91f8a0",
   "metadata": {},
   "outputs": [],
   "source": [
    "grid_search.fit(x_sm, y_sm)"
   ]
  },
  {
   "cell_type": "code",
   "execution_count": null,
   "id": "40f51cc6-fa78-4877-9c1d-c84cf971e435",
   "metadata": {},
   "outputs": [],
   "source": [
    "best_model = grid_search.best_estimator_\n",
    "print(\"Best Parameters:\", grid_search.best_params_)"
   ]
  },
  {
   "cell_type": "code",
   "execution_count": null,
   "id": "0b6200a3-61d8-4d07-9464-e8b17b530517",
   "metadata": {},
   "outputs": [],
   "source": [
    "best_dt_model = grid_search.best_estimator_\n",
    "y_pred_log = best_dt_model.predict(x_test)\n",
    "accuracy = accuracy_score(y_test, y_pred_log)\n",
    "print(\"Test Accuracy with Best Hyperparameters:\", accuracy)"
   ]
  },
  {
   "cell_type": "markdown",
   "id": "b68b9162-4a44-4bbf-b2a1-c58e595eca31",
   "metadata": {},
   "source": [
    "### Decision Tree"
   ]
  },
  {
   "cell_type": "code",
   "execution_count": null,
   "id": "cf502859-78c5-4e18-834e-d7507c1c238b",
   "metadata": {},
   "outputs": [],
   "source": [
    "from sklearn.tree import DecisionTreeClassifier"
   ]
  },
  {
   "cell_type": "code",
   "execution_count": null,
   "id": "8de0d821-3fa1-4342-815d-622c2eae9225",
   "metadata": {},
   "outputs": [],
   "source": [
    "dt = DecisionTreeClassifier(random_state=42)\n",
    "dt.fit(x_sm, y_sm)"
   ]
  },
  {
   "cell_type": "code",
   "execution_count": null,
   "id": "5bb57206-e74c-4ce3-89db-d060cc79bcdd",
   "metadata": {},
   "outputs": [],
   "source": [
    "y_pred_dt = dt.predict(x_test)"
   ]
  },
  {
   "cell_type": "code",
   "execution_count": null,
   "id": "45cea3ff-c2ca-4582-9d46-78ec38cba37e",
   "metadata": {},
   "outputs": [],
   "source": [
    "# Evaluation\n",
    "print(\"Accuracy:\", accuracy_score(y_test, y_pred_dt))\n",
    "print(\"Precision:\", precision_score(y_test, y_pred_dt))\n",
    "print(\"Recall:\", recall_score(y_test, y_pred_dt))\n",
    "print(\"F1 Score:\", f1_score(y_test, y_pred_dt))\n",
    "print(\"ROC AUC:\", roc_auc_score(y_test, y_pred_dt))\n",
    "print(\"\\nConfusion Matrix:\\n\", confusion_matrix(y_test, y_pred_dt))\n",
    "print(\"\\nClassification Report:\\n\", classification_report(y_test, y_pred_dt))"
   ]
  },
  {
   "cell_type": "markdown",
   "id": "603ff70f-5a16-4bd2-a4a6-9c477e094f91",
   "metadata": {},
   "source": [
    "### Cross validation"
   ]
  },
  {
   "cell_type": "code",
   "execution_count": null,
   "id": "0516a165-7851-445d-98c8-7a26c62cd78a",
   "metadata": {},
   "outputs": [],
   "source": [
    "scores = cross_val_score(dt, x_sm, y_sm, cv=5, scoring='accuracy')"
   ]
  },
  {
   "cell_type": "code",
   "execution_count": null,
   "id": "e6521847-f50a-47f3-84aa-74a7178577d1",
   "metadata": {},
   "outputs": [],
   "source": [
    "print(\"Cross-Validation accuracy Scores:\", scores)"
   ]
  },
  {
   "cell_type": "code",
   "execution_count": null,
   "id": "9330dacb-db1b-4876-9a20-5ec417011225",
   "metadata": {},
   "outputs": [],
   "source": [
    "print(\"Average accuracy Score:\", scores.mean())"
   ]
  },
  {
   "cell_type": "markdown",
   "id": "a53f2f77-25a0-4080-b891-9d81aad3b387",
   "metadata": {},
   "source": [
    "### Hyperparameter"
   ]
  },
  {
   "cell_type": "code",
   "execution_count": null,
   "id": "69e55e37-ceea-40c0-9f53-332c8118dae7",
   "metadata": {},
   "outputs": [],
   "source": [
    "param_grid = {\n",
    "    'criterion': ['gini', 'entropy'],\n",
    "    'max_depth': [None, 5, 10, 15, 20],\n",
    "    'min_samples_split': [2, 5, 10],\n",
    "    'min_samples_leaf': [1, 2, 4],\n",
    "    'max_features': [None, 'sqrt', 'log2']\n",
    "}"
   ]
  },
  {
   "cell_type": "code",
   "execution_count": null,
   "id": "13aa19c1-7a2c-456d-b0d3-2e1dd57a2d17",
   "metadata": {},
   "outputs": [],
   "source": [
    "grid_search = GridSearchCV(estimator=dt,\n",
    "                           param_grid=param_grid,\n",
    "                           cv=5,                # 5-fold cross-validation\n",
    "                           scoring='f1',        # or 'roc_auc' / 'accuracy'\n",
    "                           n_jobs=-1,           # use all CPU cores\n",
    "                           verbose=1)\n",
    "\n",
    "grid_search.fit(x_sm, y_sm)"
   ]
  },
  {
   "cell_type": "code",
   "execution_count": null,
   "id": "633e4edb-023f-4dd6-96a8-47df95693eb7",
   "metadata": {},
   "outputs": [],
   "source": [
    "print(\"Best Parameters:\", grid_search.best_params_)\n",
    "\n",
    "best_model = grid_search.best_estimator_\n",
    "\n",
    "y_pred = best_model.predict(x_test)\n",
    "\n",
    "print(classification_report(y_test, y_pred_dt))\n",
    "print(\"Confusion Matrix:\\n\", confusion_matrix(y_test, y_pred_dt))\n",
    "print(\"Accuracy:\", accuracy_score(y_test, y_pred_dt))\n",
    "print(\"Precision:\", precision_score(y_test, y_pred_dt))\n",
    "print(\"Recall:\", recall_score(y_test, y_pred_dt))\n",
    "print(\"F1 Score:\", f1_score(y_test, y_pred_dt))\n",
    "print(\"ROC AUC:\", roc_auc_score(y_test, y_pred_dt))"
   ]
  },
  {
   "cell_type": "markdown",
   "id": "03c51f64-3bf1-4379-b352-d4f9d00c9b98",
   "metadata": {},
   "source": [
    "### Random Forest"
   ]
  },
  {
   "cell_type": "code",
   "execution_count": null,
   "id": "79062076-9633-4e97-98b8-322101663fa2",
   "metadata": {},
   "outputs": [],
   "source": [
    "from sklearn.ensemble import RandomForestClassifier\n",
    "\n",
    "rf = RandomForestClassifier()\n",
    "rf.fit(x_train, y_train)\n",
    "y_pred_rf = rf.predict(x_test)\n",
    "\n",
    "acc = accuracy_score(y_test, y_pred_rf)\n",
    "pr = precision_score(y_test, y_pred_rf)\n",
    "re = recall_score(y_test, y_pred_rf)\n",
    "f1 = f1_score(y_test, y_pred_rf)\n",
    "roc = roc_auc_score(y_test, y_pred_rf)\n",
    "cm = confusion_matrix(y_test, y_pred_rf)\n",
    "ct = pd.crosstab(y_test, y_pred_rf)\n",
    "\n",
    "print('Accuracy score: ',acc )\n",
    "print('Precision score: ',pr )\n",
    "print('recall score: ',re )\n",
    "print('f1 score: ',f1 )\n",
    "print('roc and auc score: ',roc)\n",
    "print(cm)\n",
    "print(ct)"
   ]
  },
  {
   "cell_type": "markdown",
   "id": "fbb2ce37-41b5-4f31-8e04-9af16ef1e363",
   "metadata": {},
   "source": [
    "### Cross Validation"
   ]
  },
  {
   "cell_type": "code",
   "execution_count": null,
   "id": "e6b35a22-6c51-4d6f-b3a7-399a8cc42d61",
   "metadata": {},
   "outputs": [],
   "source": [
    "scores = cross_val_score(rf, x_train, y_train, cv=5, scoring='f1')  # you can also use 'accuracy', 'roc_auc', etc.\n",
    "print(\"Cross-Validation F1 Scores:\", scores)\n",
    "print(\"Average F1 Score:\", scores.mean())"
   ]
  },
  {
   "cell_type": "markdown",
   "id": "969619cf-5779-4ae0-a1a1-3c24eda5721a",
   "metadata": {},
   "source": [
    "## Hyperparameter Tunning"
   ]
  },
  {
   "cell_type": "code",
   "execution_count": null,
   "id": "6c31c136-d582-4e2d-8762-8d750df8ece2",
   "metadata": {},
   "outputs": [],
   "source": [
    "from sklearn.model_selection import RandomizedSearchCV\n",
    "\n",
    "param_dist = {\n",
    "    'n_estimators': [100, 200, 300, 400, 500],\n",
    "    'max_depth': [None, 5, 10, 15, 20],\n",
    "    'min_samples_split': [2, 5, 10],\n",
    "    'min_samples_leaf': [1, 2, 4],\n",
    "    'bootstrap': [True, False]\n",
    "}\n",
    "\n",
    "rf = RandomForestClassifier(random_state=42)\n",
    "\n",
    "random_search = RandomizedSearchCV(\n",
    "    rf, \n",
    "    param_distributions=param_dist,\n",
    "    n_iter=20,          # Try 20 random combinations\n",
    "    cv=5,               # 5-fold cross-validation\n",
    "    scoring='f1',       # or 'roc_auc', 'accuracy'\n",
    "    verbose=2,\n",
    "    random_state=42,\n",
    "    n_jobs=-1           # Use all processors\n",
    ")\n",
    "\n",
    "random_search.fit(x_train, y_train)\n",
    "\n",
    "print(\"Best Parameters:\", random_search.best_params_)\n",
    "print(\"Best F1 Score:\", random_search.best_score_)\n"
   ]
  },
  {
   "cell_type": "code",
   "execution_count": null,
   "id": "4d2222ec-0ac0-4579-97d5-d9e1a59acdb4",
   "metadata": {},
   "outputs": [],
   "source": [
    "print(\"Accuracy:\", accuracy_score(y_test, y_pred_rf))\n",
    "print(\"Precision:\", precision_score(y_test, y_pred_rf))\n",
    "print(\"Recall:\", recall_score(y_test, y_pred_rf))\n",
    "print(\"F1 Score:\", f1_score(y_test, y_pred_rf))\n",
    "print(\"ROC AUC:\", roc_auc_score(y_test, y_pred_rf))"
   ]
  },
  {
   "cell_type": "markdown",
   "id": "90d57479-9e75-4e76-af29-6520fd6f4b95",
   "metadata": {},
   "source": [
    "### XGBoost"
   ]
  },
  {
   "cell_type": "code",
   "execution_count": null,
   "id": "d21c7554-c080-4934-8341-a1104e3623e3",
   "metadata": {},
   "outputs": [],
   "source": [
    "from xgboost import XGBClassifier\n",
    "xgb = XGBClassifier(use_label_encoder=False, eval_metric='logloss', random_state=42)\n",
    "xgb.fit(x_sm, y_sm)\n",
    "y_pred_xgb = xgb.predict(x_test)\n",
    "# Evaluation\n",
    "print(\"Accuracy:\", accuracy_score(y_test, y_pred_xgb))\n",
    "print(\"Precision:\", precision_score(y_test, y_pred_xgb))\n",
    "print(\"Recall:\", recall_score(y_test, y_pred_xgb))\n",
    "print(\"F1 Score:\", f1_score(y_test, y_pred_xgb))\n",
    "print(\"ROC AUC:\", roc_auc_score(y_test, y_pred_xgb))\n",
    "print(\"\\nConfusion Matrix:\\n\", confusion_matrix(y_test, y_pred_xgb))\n",
    "print(\"\\nClassification Report:\\n\", classification_report(y_test, y_pred_xgb))"
   ]
  },
  {
   "cell_type": "markdown",
   "id": "e19a17ff-5280-47f2-99ad-b2f0a0b998a2",
   "metadata": {},
   "source": [
    "### Cross Validation"
   ]
  },
  {
   "cell_type": "code",
   "execution_count": null,
   "id": "bdabea09-9824-4761-aae1-deff1f562b43",
   "metadata": {},
   "outputs": [],
   "source": [
    "scores = cross_val_score(xgb, x_sm, y_sm, cv=5, scoring='f1')\n",
    "\n",
    "print(\"Cross-Validation F1 Scores:\", scores)\n",
    "print(\"Average F1 Score:\", scores.mean())\n"
   ]
  },
  {
   "cell_type": "markdown",
   "id": "57e029be-900d-48f5-be3d-9d71e3abfd95",
   "metadata": {},
   "source": [
    "### Hyperparameter Tunning"
   ]
  },
  {
   "cell_type": "code",
   "execution_count": null,
   "id": "ff6044f2-0102-4366-a237-a467d3b94db3",
   "metadata": {},
   "outputs": [],
   "source": [
    "# Define parameter grid\n",
    "param_grid = {\n",
    "    'n_estimators': [50, 100, 200],\n",
    "    'max_depth': [3, 5, 7],\n",
    "    'learning_rate': [0.01, 0.1, 0.2]\n",
    "}\n",
    "\n",
    "# Set up grid search with cross-validation\n",
    "grid_search = GridSearchCV(\n",
    "    estimator=XGBClassifier(use_label_encoder=False, eval_metric='logloss', random_state=42),\n",
    "    param_grid=param_grid,\n",
    "    scoring='f1',\n",
    "    n_jobs=-1,\n",
    "    cv=5,\n",
    "    verbose=2\n",
    ")\n",
    "\n",
    "# Fit to the oversampled training data\n",
    "grid_search.fit(x_sm, y_sm)\n",
    "\n",
    "# Best model after hyperparameter tuning\n",
    "best_xgb_model = grid_search.best_estimator_\n",
    "\n",
    "# Predictions on test set\n",
    "y_pred_xgb_best = best_xgb_model.predict(x_test)\n",
    "\n",
    "# Evaluation\n",
    "print(\"Test Accuracy with Best Hyperparameters:\", accuracy_score(y_test, y_pred_xgb_best))\n"
   ]
  },
  {
   "cell_type": "markdown",
   "id": "4ab8134e-259f-426e-8070-d9fa2f561deb",
   "metadata": {},
   "source": [
    "### LightBGM"
   ]
  },
  {
   "cell_type": "code",
   "execution_count": null,
   "id": "1d03629f-0e4c-4a74-b0cf-670ff99bf86f",
   "metadata": {},
   "outputs": [],
   "source": [
    "from lightgbm import LGBMClassifier\n",
    "# Train initial model\n",
    "lgbm = LGBMClassifier()\n",
    "lgbm.fit(x_sm, y_sm)\n",
    "y_pred_lgbm = lgbm.predict(x_test)\n",
    "print(\"LightGBM - Initial Metrics\")\n",
    "print(\"Accuracy:\", accuracy_score(y_test, y_pred_lgbm))\n",
    "print(\"Precision:\", precision_score(y_test, y_pred_lgbm))\n",
    "print(\"Recall:\", recall_score(y_test, y_pred_lgbm))\n",
    "print(\"F1 Score:\", f1_score(y_test, y_pred_lgbm))\n",
    "print(\"ROC AUC:\", roc_auc_score(y_test, y_pred_lgbm))\n",
    "print(\"\\nConfusion Matrix:\\n\", confusion_matrix(y_test, y_pred_lgbm))\n",
    "print(\"\\nClassification Report:\\n\", classification_report(y_test, y_pred_lgbm))"
   ]
  },
  {
   "cell_type": "markdown",
   "id": "27714f3e-99cf-429b-9ae0-620c915e5eb8",
   "metadata": {},
   "source": [
    "### Cross Validation"
   ]
  },
  {
   "cell_type": "code",
   "execution_count": null,
   "id": "420fc551-4911-4c06-b4c2-26be9d4fa178",
   "metadata": {},
   "outputs": [],
   "source": [
    "scores = cross_val_score(lgbm, x_sm, y_sm, cv=5, scoring='f1')\n",
    "print(\"Cross-Validation F1 Scores:\", scores)\n",
    "print(\"Average F1 Score:\", scores.mean())"
   ]
  },
  {
   "cell_type": "markdown",
   "id": "b3aefc03-d2ac-4ffd-97d3-2861c52b9e76",
   "metadata": {},
   "source": [
    "### Hyperparameter Tunning"
   ]
  },
  {
   "cell_type": "code",
   "execution_count": null,
   "id": "1244ae06-ae75-4bf9-8caf-50cf29045cff",
   "metadata": {},
   "outputs": [],
   "source": [
    "# Define parameter grid\n",
    "param_grid = {\n",
    "    'num_leaves': [31, 50, 70],\n",
    "    'learning_rate': [0.01, 0.05, 0.1],\n",
    "    'n_estimators': [100, 200, 500]\n",
    "}\n",
    "\n",
    "# Set up Grid Search with cross-validation\n",
    "grid_search_lgbm = GridSearchCV(\n",
    "    estimator=LGBMClassifier(),\n",
    "    param_grid=param_grid,\n",
    "    scoring='f1',\n",
    "    n_jobs=-1,\n",
    "    cv=5,\n",
    "    verbose=2\n",
    ")\n",
    "\n",
    "# Fit to the oversampled training data\n",
    "grid_search_lgbm.fit(x_sm, y_sm)\n",
    "\n",
    "# Best model after hyperparameter tuning\n",
    "best_lgbm_model = grid_search_lgbm.best_estimator_\n",
    "\n",
    "# Print best parameters\n",
    "print(\"Best Parameters:\", grid_search_lgbm.best_params_)\n",
    "\n",
    "# Predictions on test set\n",
    "y_pred_lgbm = best_lgbm_model.predict(x_test)\n",
    "\n",
    "# Evaluation\n",
    "print(\"Test Accuracy with Best Hyperparameters:\", accuracy_score(y_test, y_pred_lgbm))\n"
   ]
  },
  {
   "cell_type": "markdown",
   "id": "e16349d7-f318-49a2-8b94-2c904f5fe8a5",
   "metadata": {},
   "source": [
    "### KNN"
   ]
  },
  {
   "cell_type": "code",
   "execution_count": null,
   "id": "40b9e59f-b655-4dd1-b290-2660f7cd944c",
   "metadata": {},
   "outputs": [],
   "source": [
    "from sklearn.neighbors import KNeighborsClassifier\n",
    "# Train initial model\n",
    "knn = KNeighborsClassifier()\n",
    "knn.fit(x_sm, y_sm)\n",
    "y_pred_knn = knn.predict(x_test)\n",
    "print(\"KNN - Initial Metrics\")\n",
    "print(\"Accuracy:\", accuracy_score(y_test, y_pred_knn))\n",
    "print(\"Precision:\", precision_score(y_test, y_pred_knn))\n",
    "print(\"Recall:\", recall_score(y_test, y_pred_knn))\n",
    "print(\"F1 Score:\", f1_score(y_test, y_pred_knn))\n",
    "print(\"ROC AUC:\", roc_auc_score(y_test, y_pred_knn))\n",
    "print(\"\\nConfusion Matrix:\\n\", confusion_matrix(y_test, y_pred_knn))\n",
    "print(\"\\nClassification Report:\\n\", classification_report(y_test, y_pred_knn))"
   ]
  },
  {
   "cell_type": "markdown",
   "id": "78cc7857-acf0-47bd-8904-915e88e7c691",
   "metadata": {},
   "source": [
    "### Cross Validation"
   ]
  },
  {
   "cell_type": "code",
   "execution_count": null,
   "id": "731d6821-b420-4522-b04e-9a88f2570520",
   "metadata": {},
   "outputs": [],
   "source": [
    "scores = cross_val_score(knn, x_sm, y_sm, cv=5, scoring='f1')\n",
    "print(\"Cross-Validation F1 Scores:\", scores)\n",
    "print(\"Average F1 Score:\", scores.mean())"
   ]
  },
  {
   "cell_type": "markdown",
   "id": "27290d9d-5635-491b-98c7-bdf0c7897751",
   "metadata": {},
   "source": [
    "### Hyper parameter Tunning"
   ]
  },
  {
   "cell_type": "code",
   "execution_count": null,
   "id": "f1b2407e-d019-443c-b4d2-c6e7010b8f96",
   "metadata": {},
   "outputs": [],
   "source": [
    "# Define parameter grid\n",
    "param_grid = {\n",
    "    'n_neighbors': [3, 5, 7, 9],\n",
    "    'weights': ['uniform', 'distance'],\n",
    "    'metric': ['euclidean', 'manhattan']\n",
    "}\n",
    "\n",
    "# Set up GridSearchCV\n",
    "grid_search_knn = GridSearchCV(\n",
    "    KNeighborsClassifier(),\n",
    "    param_grid=param_grid,\n",
    "    scoring='f1',     # or 'f1_macro' for multi-class\n",
    "    n_jobs=-1,\n",
    "    cv=5,\n",
    "    verbose=2\n",
    ")\n",
    "\n",
    "# Fit on training data\n",
    "grid_search_knn.fit(x_sm, y_sm)\n",
    "\n",
    "# Get best model\n",
    "best_knn_model = grid_search_knn.best_estimator_\n",
    "\n",
    "# Print best parameters\n",
    "print(\"Best Parameters:\", grid_search_knn.best_params_)\n",
    "\n",
    "# Evaluate on test data\n",
    "y_pred_knn = best_knn_model.predict(x_test)\n",
    "print('Test Accuracy with Best Hyperparameters:', accuracy_score(y_test, y_pred_knn))\n"
   ]
  },
  {
   "cell_type": "code",
   "execution_count": null,
   "id": "036947be-65e5-424c-84b5-d1d23ca9c099",
   "metadata": {},
   "outputs": [],
   "source": []
  },
  {
   "cell_type": "code",
   "execution_count": null,
   "id": "090b5fa0-5935-4dd8-b96b-ca1671983ed9",
   "metadata": {},
   "outputs": [],
   "source": []
  },
  {
   "cell_type": "code",
   "execution_count": null,
   "id": "a68fe08c-4969-46da-ac33-93db31844fbe",
   "metadata": {},
   "outputs": [],
   "source": []
  },
  {
   "cell_type": "code",
   "execution_count": null,
   "id": "b311137d-279b-436c-82d8-7920cbf13e00",
   "metadata": {},
   "outputs": [],
   "source": []
  },
  {
   "cell_type": "code",
   "execution_count": null,
   "id": "7dfacd29-77bd-4faa-8d43-206bc5194c15",
   "metadata": {},
   "outputs": [],
   "source": []
  },
  {
   "cell_type": "code",
   "execution_count": null,
   "id": "a0f94ba5-9369-480b-9332-0752018754c0",
   "metadata": {},
   "outputs": [],
   "source": [
    "\n"
   ]
  }
 ],
 "metadata": {
  "kernelspec": {
   "display_name": "Python 3 (ipykernel)",
   "language": "python",
   "name": "python3"
  },
  "language_info": {
   "codemirror_mode": {
    "name": "ipython",
    "version": 3
   },
   "file_extension": ".py",
   "mimetype": "text/x-python",
   "name": "python",
   "nbconvert_exporter": "python",
   "pygments_lexer": "ipython3",
   "version": "3.12.4"
  }
 },
 "nbformat": 4,
 "nbformat_minor": 5
}
